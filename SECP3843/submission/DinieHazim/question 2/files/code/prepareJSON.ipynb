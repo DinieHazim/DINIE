{
  "nbformat": 4,
  "nbformat_minor": 0,
  "metadata": {
    "colab": {
      "provenance": [],
      "authorship_tag": "ABX9TyO53+YeNG3by61f3a3nCRxq",
      "include_colab_link": true
    },
    "kernelspec": {
      "name": "python3",
      "display_name": "Python 3"
    },
    "language_info": {
      "name": "python"
    }
  },
  "cells": [
    {
      "cell_type": "markdown",
      "metadata": {
        "id": "view-in-github",
        "colab_type": "text"
      },
      "source": [
        "<a href=\"https://colab.research.google.com/github/DinieHazim/DinieHazim/blob/main/SECP3843/submission/DinieHazim/question%202/files/code/prepareJSON.ipynb\" target=\"_parent\"><img src=\"https://colab.research.google.com/assets/colab-badge.svg\" alt=\"Open In Colab\"/></a>"
      ]
    },
    {
      "cell_type": "markdown",
      "source": [
        "# Convert `stories.json` to MongoDB structure"
      ],
      "metadata": {
        "id": "uSHm4kh9DsKc"
      }
    },
    {
      "cell_type": "code",
      "execution_count": 2,
      "metadata": {
        "id": "ZW_3G-ENDcMJ"
      },
      "outputs": [],
      "source": [
        "import json\n",
        "\n",
        "# Open the original JSON file with the correct encoding\n",
        "with open('stories.json', 'r', encoding='utf-8') as file:\n",
        "    data = file.readlines()\n",
        "\n",
        "# Modify the data to add square brackets\n",
        "modified_data = '[' + ','.join(data) + ']'\n",
        "\n",
        "# Write the modified data to a new file with the correct encoding\n",
        "with open('modified_stories.json', 'w', encoding='utf-8') as file:\n",
        "    file.write(modified_data)"
      ]
    }
  ]
}